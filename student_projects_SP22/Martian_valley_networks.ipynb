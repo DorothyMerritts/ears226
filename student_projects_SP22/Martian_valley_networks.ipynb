{
  "nbformat": 4,
  "nbformat_minor": 0,
  "metadata": {
    "colab": {
      "name": "Martian valley networks",
      "provenance": [],
      "collapsed_sections": [],
      "include_colab_link": true
    },
    "kernelspec": {
      "name": "python3",
      "display_name": "Python 3"
    },
    "language_info": {
      "name": "python"
    }
  },
  "cells": [
    {
      "cell_type": "markdown",
      "metadata": {
        "id": "view-in-github",
        "colab_type": "text"
      },
      "source": [
        "<a href=\"https://colab.research.google.com/github/jmdelvecchio/ears33/blob/main/Martian_valley_networks.ipynb\" target=\"_parent\"><img src=\"https://colab.research.google.com/assets/colab-badge.svg\" alt=\"Open In Colab\"/></a>"
      ]
    },
    {
      "cell_type": "markdown",
      "source": [
        "# **Data Tutorial Term Project**\n",
        "\n",
        "**Motivation:** This data tutorial focuses on the role that valley networks versus paleolake outlet canyons in valley formation on Mars. Specifically, this tutorial focuses on the differences in depths between normal valley network rivers and the depths of the outlet canyons. In the study by Goudge et al., they show that there is a length–volume discrepancy where the canyons only make up 3% of overall valley length; however, they are responsible for about a quarter of all erosion during the valley network formation era. What might explain the differences in valley networks and canyons? The incision depth. <br>\n",
        "\n",
        "**Geomorphic concept:** Canyons, which eroded a quarter of sediment on Mars during the valley formation era, incised significantly deeper than nearby rivers. What impact might the existence of these deep canyons have on the continued formation and other aspects of the landscape?\n",
        "\n",
        "In this tutorial we will be using data from Goudge et al. 2021) which can be downloaded here: https://dataverse.tdl.org/dataset.xhtml?persistentId=doi:10.18738/T8/STRFZH <br>\n",
        "\n",
        "In this tutorial we will use rasterio to load and open the .tif files that hold the valley and palelake canyon depths. \n",
        "\n",
        "**Connection to course material:** This data tutorial relates to sectino of the class where we learned about fluvial processes, specifically the role of erosion and incision. From class we know that hillslopes are influenced by diffusion, erosion and uplift from the following equation: ____. In this paper we are focusing on how erosion impacts valley formation/hillslopes.\n",
        "\n",
        "**Data Generation:** Go to the above link, download the files and then you'll need to upload Goudge_et_al_2021_Nature_PBTH_Output_Paleolake_Outlet_Canyon_Depth_m.tif and Goudge_et_al_2021_Nature_PBTH_Output_Valley_Network_Depth_m.tif to your Google Colab folder and then this code should run for you. *Note on the data: I this analysis without masking the data as Google Colab kept crashing, but even without masking the data as they did in the paper we get very similar results. Also, they had tried multiple different masks to get different output numbers."
      ],
      "metadata": {
        "id": "5XnLvZj4oibO"
      }
    },
    {
      "cell_type": "code",
      "source": [
        "!pip install geopandas --quiet\n",
        "!pip install rasterio --quiet"
      ],
      "metadata": {
        "id": "GyHkJARg1ux2"
      },
      "execution_count": null,
      "outputs": []
    },
    {
      "cell_type": "code",
      "execution_count": null,
      "metadata": {
        "id": "gURtBG-80rpa"
      },
      "outputs": [],
      "source": [
        "import matplotlib.pyplot as plt\n",
        "from rasterio.plot import show\n",
        "import geopandas as gpd\n",
        "import numpy as np\n",
        "import rasterio\n"
      ]
    },
    {
      "cell_type": "markdown",
      "source": [
        "# Part One - just give me the data from the rasters please"
      ],
      "metadata": {
        "id": "IBAhllozdVkX"
      }
    },
    {
      "cell_type": "code",
      "source": [
        "from google.colab import drive\n",
        "drive.mount('/content/drive')"
      ],
      "metadata": {
        "colab": {
          "base_uri": "https://localhost:8080/"
        },
        "id": "ufucjekErkAG",
        "outputId": "c30fb31d-f617-4ba7-fc26-4fdea0d8489a"
      },
      "execution_count": null,
      "outputs": [
        {
          "output_type": "stream",
          "name": "stdout",
          "text": [
            "Drive already mounted at /content/drive; to attempt to forcibly remount, call drive.mount(\"/content/drive\", force_remount=True).\n"
          ]
        }
      ]
    },
    {
      "cell_type": "code",
      "source": [
        "# Open the valley network tif file\n",
        "with rasterio.open('/content/drive/MyDrive/Colab Notebooks/EARS33_SP22_student_projects/gavenhannah_130976_9661100_Goudge_et_al_2021_Nature_PBTH_Output_Valley_Network_Depth_m.tif') as src:\n",
        "  print(src.nodata)\n",
        "  # the \"nodata\" value for this raster is 32767, so in case you don't mask your data with the mask call you will know why you have so many of that value!\n",
        "  data_valley = src.read(1, masked=True)\n",
        "  # This reads the first \"band\" of the rasterio format which is where all the data is, and it will mask out the nodatas. "
      ],
      "metadata": {
        "colab": {
          "base_uri": "https://localhost:8080/"
        },
        "id": "HChXn8SdSZ3G",
        "outputId": "a767ce93-d06c-4081-86c8-171660021210"
      },
      "execution_count": null,
      "outputs": [
        {
          "output_type": "stream",
          "name": "stdout",
          "text": [
            "32767.0\n"
          ]
        }
      ]
    },
    {
      "cell_type": "code",
      "source": [
        "# What is the mean depth of the valleys?\n",
        "print(\"mean\")\n",
        "np.mean(data_valley)"
      ],
      "metadata": {
        "colab": {
          "base_uri": "https://localhost:8080/"
        },
        "id": "HprJjo50Sh9Y",
        "outputId": "41b67c21-0d4e-4f7b-e78c-f2a104f1118b"
      },
      "execution_count": null,
      "outputs": [
        {
          "output_type": "stream",
          "name": "stdout",
          "text": [
            "mean\n"
          ]
        },
        {
          "output_type": "execute_result",
          "data": {
            "text/plain": [
              "83.97261530597191"
            ]
          },
          "metadata": {},
          "execution_count": 5
        }
      ]
    },
    {
      "cell_type": "code",
      "source": [
        "# What is the median depths of the valleys \n",
        "\n",
        "valley = data_valley.compressed() # compress so we can manipulate without crashing google colab\n",
        "print(\"median: \" + str(np.median(valley)))\n",
        "print(\"Q1: \" + str(np.percentile(valley, 25)))\n",
        "print(\"Q3: \" + str(np.percentile(valley, 75)))\n",
        "\n",
        "# These output values are super similar to the median values given in the paper \n",
        "# for the depths of the valleys (median = 77.5 m, Q1 = 47.5 m, Q3 = 97.5 m)"
      ],
      "metadata": {
        "colab": {
          "base_uri": "https://localhost:8080/"
        },
        "id": "QG5YGTg7Cf6X",
        "outputId": "e5069241-75de-442d-c3a9-86048728cf81"
      },
      "execution_count": null,
      "outputs": [
        {
          "output_type": "stream",
          "name": "stdout",
          "text": [
            "median: 72.0\n",
            "Q1: 42.0\n",
            "Q3: 107.0\n"
          ]
        }
      ]
    },
    {
      "cell_type": "code",
      "source": [
        "# Open the output canyon tif file\n",
        "\n",
        "with rasterio.open('/content/drive/MyDrive/submissions (1)/gavenhannah_130976_9661102_Goudge_et_al_2021_Nature_PBTH_Output_Paleolake_Outlet_Canyon_Depth_m.tif') as src2:\n",
        "  print(src2.nodata)\n",
        "  # the \"nodata\" value for this raster is 32767, so in case you don't mask your data with the mask call you will know why you have so many of that value!\n",
        "  data_canyons = src2.read(1, masked=True)\n",
        "  # This reads the first \"band\" of the rasterio format which is where all the data is, and it will mask out the nodatas."
      ],
      "metadata": {
        "colab": {
          "base_uri": "https://localhost:8080/"
        },
        "id": "bJ9YqINOxnzv",
        "outputId": "003016e1-1c71-41b6-b1ff-362010d3d431"
      },
      "execution_count": null,
      "outputs": [
        {
          "output_type": "stream",
          "name": "stdout",
          "text": [
            "32767.0\n"
          ]
        }
      ]
    },
    {
      "cell_type": "code",
      "source": [
        "# Mean depth of output canyons\n",
        "data_canyons\n",
        "np.mean(data_canyons)"
      ],
      "metadata": {
        "colab": {
          "base_uri": "https://localhost:8080/"
        },
        "id": "-rP0x_JC06xO",
        "outputId": "4d4fdd37-cf53-4736-e888-7aefacdac826"
      },
      "execution_count": null,
      "outputs": [
        {
          "output_type": "execute_result",
          "data": {
            "text/plain": [
              "292.3307415667129"
            ]
          },
          "metadata": {},
          "execution_count": 8
        }
      ]
    },
    {
      "cell_type": "code",
      "source": [
        "# Median and inter-quartile ranges of the outlet canyons\n",
        "canyon = data_canyons.compressed() #compress to keep google colab from crashing\n",
        "print(\"median: \" + str(np.median(canyon)))\n",
        "print(\"Q1: \" + str(np.percentile(canyon, 25)))\n",
        "print(\"Q3: \" + str(np.percentile(canyon, 75)))\n",
        "\n",
        "# Goudge et al. state that the outlet canyons have the following median values:\n",
        "# (median = 170.5 m, Q1 = 106.5 m, Q3 = 266 m)"
      ],
      "metadata": {
        "colab": {
          "base_uri": "https://localhost:8080/"
        },
        "id": "veDsQRHGW3ju",
        "outputId": "130dbfe0-61bb-4ad0-d24e-189c232196ec"
      },
      "execution_count": null,
      "outputs": [
        {
          "output_type": "stream",
          "name": "stdout",
          "text": [
            "median: 162.0\n",
            "Q1: 104.0\n",
            "Q3: 316.0\n"
          ]
        }
      ]
    },
    {
      "cell_type": "markdown",
      "source": [
        "**Fun extra thinking question:** Does the data align with our assumption that canyons are systematically deeper? Why might the unmasked data used in this tutorial give slightly different median and interquartile range values from those reported in the article? <br>\n",
        "\n",
        "The data in the article is masked to only account for valleys that were formed during the valley network formation era, thus the existence of new valleys could impact these numbers. Also, the authors masked out certain lattitudes to account for that fact that it is likely that higher lattides were glaciated and as glaciers melted they may have left glacier infill in the valleys, thus making it seem as though the valley didn't incise as much as it actually did.\n"
      ],
      "metadata": {
        "id": "wl8IdsG9xRsP"
      }
    },
    {
      "cell_type": "code",
      "source": [
        "# Create the cummulative distribution graph \n",
        "\n",
        "# Overall depth sum\n",
        "c_sum = np.sum(canyon)\n",
        "valley_sum = np.sum(valley)\n",
        "\n",
        "# create the probability density function (pdf) \n",
        "# to then create the cumulative distribution function (cdf)\n",
        "canyon_pdf = canyon/ c_sum\n",
        "valley_pdf= valley / valley_sum\n",
        "cdf_c = np.cumsum(canyon_pdf)\n",
        "cdf_v = np.cumsum(valley_pdf)\n",
        "\n",
        "# create the x axis\n",
        "x_c = np.sort(canyon)\n",
        "x_v = np.sort(valley)\n",
        "\n",
        "# Plot\n",
        "plt.semilogx(x_c, cdf_c, label=\"Canyon\")\n",
        "plt.semilogx(x_v, cdf_v, label=\"Valley\")\n",
        "plt.xlabel('Depth (m)')\n",
        "plt.ylabel('Cumulative fraction')\n",
        "plt.legend(loc=\"upper left\")\n",
        "plt.title(\"Cumulative distribution of depths for valley networks and palaeolake outlet canyons\")\n"
      ],
      "metadata": {
        "colab": {
          "base_uri": "https://localhost:8080/",
          "height": 317
        },
        "id": "RLpGC85uX2r-",
        "outputId": "6594a397-fec4-4e3f-9765-6c0bf8c31330"
      },
      "execution_count": null,
      "outputs": [
        {
          "output_type": "execute_result",
          "data": {
            "text/plain": [
              "Text(0.5, 1.0, 'Cumulative distribution of depths for valley networks and palaeolake outlet canyons')"
            ]
          },
          "metadata": {},
          "execution_count": 10
        },
        {
          "output_type": "display_data",
          "data": {
            "text/plain": [
              "<Figure size 432x288 with 1 Axes>"
            ],
            "image/png": "[encoded data removed]"
          },
          "metadata": {
            "needs_background": "light"
          }
        }
      ]
    },
    {
      "cell_type": "markdown",
      "source": [
        "**Reflection Question:** What might be some physical consequences of having deep canyons in a valley network? (and how might this look different on Mars compared to Earth?) <br>\n",
        "\n",
        "Deep canyons in a valley network lower the overall baselines for water. Thus, they completely drain the paleolakes that they are connected to. Also, these deep canyons could end up being a drainage source for the nearby rivers which are signifcantly less deep. Thus, when the fairly shallow rivers drain into a deep canyon, it creates a knickpoint where they join. On Earth knickpoints move up to the headwaters as more erosion happens; however, Mars is now dry thus it wouldn't be suprsing to see knickpoints lower down (not in the headwaters) marking Mars valley networks as fairly immature compared to Earth. "
      ],
      "metadata": {
        "id": "T2I5Ro9Qzu8P"
      }
    }
  ]
}