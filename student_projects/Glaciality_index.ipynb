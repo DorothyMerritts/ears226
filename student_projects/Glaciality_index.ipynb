{
  "nbformat": 4,
  "nbformat_minor": 0,
  "metadata": {
    "colab": {
      "name": "Glaciality index",
      "provenance": [],
      "collapsed_sections": [],
      "include_colab_link": true
    },
    "kernelspec": {
      "name": "python3",
      "display_name": "Python 3"
    },
    "language_info": {
      "name": "python"
    }
  },
  "cells": [
    {
      "cell_type": "markdown",
      "metadata": {
        "id": "view-in-github",
        "colab_type": "text"
      },
      "source": [
        "<a href=\"https://colab.research.google.com/github/jmdelvecchio/ears33/blob/main/Glaciality_index.ipynb\" target=\"_parent\"><img src=\"https://colab.research.google.com/assets/colab-badge.svg\" alt=\"Open In Colab\"/></a>"
      ]
    },
    {
      "cell_type": "markdown",
      "source": [
        "# Introduction"
      ],
      "metadata": {
        "id": "ECXHcJlHs5VR"
      }
    },
    {
      "cell_type": "markdown",
      "source": [
        "Glaciers and rivers are both powerful enough to shape the valley profile of a landscape. It has long been understood that, as the world transitions from glacial to interglacial periods, fluvial systems inhabit previously glacially-formed valleys. However, little is known about why this trantision happens in some cases, and why, in other cases, U-shaped glacial profiles persist through interglacial periods. A recent study suggested this phenomenon could be answered by tectonic activity. In this data tutorial, I will take river profiles from different regions of the US, quantitatively assess their shapes, and compare these profiles against the known erosion rates for the watersheds from which these profiles were taken. \n",
        "\n",
        "I began by choosing my watersheds using https://octopusdata.org. This dataset provides watershed areas and respective Beryllium-10 erosion rates for each watershed. I chose a New York watershed (Northern Susquehanna) and a California watershed (Northern California Coastal). I have included a map of the watersheds as a final in this submission. Then I took 10m Digital Elevation Model (DEM) data from the USGS website for each of these regions. I uploaded these files into ArcMap, then chose several river profiles using the 3D Analyst tool for each watershed to analyze. These profiles produced data for distance vs elevation that I exported as a .csv file and upload in this data tutorial.\n",
        "\n",
        "As for data wrangling/manipulation, in this tutorial I take the river profiles, split them into two flanks (right and left) then fit a power law on each flank (y=ax^b). This b value is what I use to quantify the V-ness or U-ness of each profile. I will explain these steps in further detail later. \n",
        "\n",
        "This data tutorial is adapted from Prasicek, G., Larsen, I. & Montgomery, D. \"Tectonic control on the persistence of glacially sculpted topography.\" *Nature Communications* 6, 8028 (2015). https://doi.org/10.1038/ncomms9028"
      ],
      "metadata": {
        "id": "wBx-W311qcBE"
      }
    },
    {
      "cell_type": "code",
      "source": [
        "# ONLY RUN THIS BLOCK OF CODE FOR THE FIRST RUN \n",
        "import pandas as pd\n",
        "\n",
        "# Create a table that will store the data produced in this tutorial\n",
        "data = {'Data Source': [], 'Right flank': [], 'Left flank': [], 'Average': []}\n",
        "df_final = pd.DataFrame(data)\n",
        "\n",
        "df_final.head()"
      ],
      "metadata": {
        "colab": {
          "base_uri": "https://localhost:8080/",
          "height": 49
        },
        "id": "XdRxwxzHxj95",
        "outputId": "631570dc-baba-4f36-f2f5-0886e355cd2b"
      },
      "execution_count": null,
      "outputs": [
        {
          "output_type": "execute_result",
          "data": {
            "text/plain": [
              "Empty DataFrame\n",
              "Columns: [Data Source, Right flank, Left flank, Average]\n",
              "Index: []"
            ],
            "text/html": [
              "\n",
              "  <div id=\"df-0db56e5e-3bd1-4e9e-b83c-4f9134365c4c\">\n",
              "    <div class=\"colab-df-container\">\n",
              "      <div>\n",
              "<style scoped>\n",
              "    .dataframe tbody tr th:only-of-type {\n",
              "        vertical-align: middle;\n",
              "    }\n",
              "\n",
              "    .dataframe tbody tr th {\n",
              "        vertical-align: top;\n",
              "    }\n",
              "\n",
              "    .dataframe thead th {\n",
              "        text-align: right;\n",
              "    }\n",
              "</style>\n",
              "<table border=\"1\" class=\"dataframe\">\n",
              "  <thead>\n",
              "    <tr style=\"text-align: right;\">\n",
              "      <th></th>\n",
              "      <th>Data Source</th>\n",
              "      <th>Right flank</th>\n",
              "      <th>Left flank</th>\n",
              "      <th>Average</th>\n",
              "    </tr>\n",
              "  </thead>\n",
              "  <tbody>\n",
              "  </tbody>\n",
              "</table>\n",
              "</div>\n",
              "      <button class=\"colab-df-convert\" onclick=\"convertToInteractive('df-0db56e5e-3bd1-4e9e-b83c-4f9134365c4c')\"\n",
              "              title=\"Convert this dataframe to an interactive table.\"\n",
              "              style=\"display:none;\">\n",
              "        \n",
              "  <svg xmlns=\"http://www.w3.org/2000/svg\" height=\"24px\"viewBox=\"0 0 24 24\"\n",
              "       width=\"24px\">\n",
              "    <path d=\"M0 0h24v24H0V0z\" fill=\"none\"/>\n",
              "    <path d=\"M18.56 5.44l.94 2.06.94-2.06 2.06-.94-2.06-.94-.94-2.06-.94 2.06-2.06.94zm-11 1L8.5 8.5l.94-2.06 2.06-.94-2.06-.94L8.5 2.5l-.94 2.06-2.06.94zm10 10l.94 2.06.94-2.06 2.06-.94-2.06-.94-.94-2.06-.94 2.06-2.06.94z\"/><path d=\"M17.41 7.96l-1.37-1.37c-.4-.4-.92-.59-1.43-.59-.52 0-1.04.2-1.43.59L10.3 9.45l-7.72 7.72c-.78.78-.78 2.05 0 2.83L4 21.41c.39.39.9.59 1.41.59.51 0 1.02-.2 1.41-.59l7.78-7.78 2.81-2.81c.8-.78.8-2.07 0-2.86zM5.41 20L4 18.59l7.72-7.72 1.47 1.35L5.41 20z\"/>\n",
              "  </svg>\n",
              "      </button>\n",
              "      \n",
              "  <style>\n",
              "    .colab-df-container {\n",
              "      display:flex;\n",
              "      flex-wrap:wrap;\n",
              "      gap: 12px;\n",
              "    }\n",
              "\n",
              "    .colab-df-convert {\n",
              "      background-color: #E8F0FE;\n",
              "      border: none;\n",
              "      border-radius: 50%;\n",
              "      cursor: pointer;\n",
              "      display: none;\n",
              "      fill: #1967D2;\n",
              "      height: 32px;\n",
              "      padding: 0 0 0 0;\n",
              "      width: 32px;\n",
              "    }\n",
              "\n",
              "    .colab-df-convert:hover {\n",
              "      background-color: #E2EBFA;\n",
              "      box-shadow: 0px 1px 2px rgba(60, 64, 67, 0.3), 0px 1px 3px 1px rgba(60, 64, 67, 0.15);\n",
              "      fill: #174EA6;\n",
              "    }\n",
              "\n",
              "    [theme=dark] .colab-df-convert {\n",
              "      background-color: #3B4455;\n",
              "      fill: #D2E3FC;\n",
              "    }\n",
              "\n",
              "    [theme=dark] .colab-df-convert:hover {\n",
              "      background-color: #434B5C;\n",
              "      box-shadow: 0px 1px 3px 1px rgba(0, 0, 0, 0.15);\n",
              "      filter: drop-shadow(0px 1px 2px rgba(0, 0, 0, 0.3));\n",
              "      fill: #FFFFFF;\n",
              "    }\n",
              "  </style>\n",
              "\n",
              "      <script>\n",
              "        const buttonEl =\n",
              "          document.querySelector('#df-0db56e5e-3bd1-4e9e-b83c-4f9134365c4c button.colab-df-convert');\n",
              "        buttonEl.style.display =\n",
              "          google.colab.kernel.accessAllowed ? 'block' : 'none';\n",
              "\n",
              "        async function convertToInteractive(key) {\n",
              "          const element = document.querySelector('#df-0db56e5e-3bd1-4e9e-b83c-4f9134365c4c');\n",
              "          const dataTable =\n",
              "            await google.colab.kernel.invokeFunction('convertToInteractive',\n",
              "                                                     [key], {});\n",
              "          if (!dataTable) return;\n",
              "\n",
              "          const docLinkHtml = 'Like what you see? Visit the ' +\n",
              "            '<a target=\"_blank\" href=https://colab.research.google.com/notebooks/data_table.ipynb>data table notebook</a>'\n",
              "            + ' to learn more about interactive tables.';\n",
              "          element.innerHTML = '';\n",
              "          dataTable['output_type'] = 'display_data';\n",
              "          await google.colab.output.renderOutput(dataTable, element);\n",
              "          const docLink = document.createElement('div');\n",
              "          docLink.innerHTML = docLinkHtml;\n",
              "          element.appendChild(docLink);\n",
              "        }\n",
              "      </script>\n",
              "    </div>\n",
              "  </div>\n",
              "  "
            ]
          },
          "metadata": {},
          "execution_count": 1
        }
      ]
    },
    {
      "cell_type": "markdown",
      "source": [
        "# Uploading/cleaning data"
      ],
      "metadata": {
        "id": "BuauNOVve4o7"
      }
    },
    {
      "cell_type": "markdown",
      "source": [
        "To begin, we will import the csv file that contains information for each river profile (x = distance, y = elevation). We will read these columns of data into individual arrays. These files are called \"NY profile data.csv\" and \"CA profile data.csv\". Upload both. \n",
        "\n",
        "**Note: each time you run this code, in order to generate the proper table of data at the end, run all of the NY profiles (x1, y1; x2, y2;...) then all of the CA profiles (all you need to change is the state abbreviation in the file name). There are 8 NY profiles and 12 CA profiles. "
      ],
      "metadata": {
        "id": "vMFYOTuNehLk"
      }
    },
    {
      "cell_type": "code",
      "source": [
        "from google.colab import drive\n",
        "drive.mount('/content/drive')"
      ],
      "metadata": {
        "colab": {
          "base_uri": "https://localhost:8080/"
        },
        "id": "iKIFsydawbOP",
        "outputId": "723fbd20-4a19-478e-c543-61e4ba450b8f"
      },
      "execution_count": null,
      "outputs": [
        {
          "output_type": "stream",
          "name": "stdout",
          "text": [
            "Mounted at /content/drive\n"
          ]
        }
      ]
    },
    {
      "cell_type": "code",
      "source": [
        "file_name = \"/content/drive/MyDrive/Colab Notebooks/EARS33_SP22_student_projects/shufflebargermargaret_125818_9651994_NY profile data.csv\"\n",
        "df = pd.read_csv(file_name)\n",
        "\n",
        "prof1_x = df['x1']\n",
        "prof1_y = df['y1']\n",
        "y_minpos = prof1_y.idxmin() #index of min of y-values"
      ],
      "metadata": {
        "id": "bVIXaoHkmDT9"
      },
      "execution_count": null,
      "outputs": []
    },
    {
      "cell_type": "markdown",
      "source": [
        "For reference, this is a real visualization of what the river profile looks like. Our end goal is to be able to quantify the V-ness or U-ness of this profile. I will explain how we will do this later, but for now we need to clean up the data. To run this analysis, we need to split the profiles into two flanks (each made up of 2 arrays -- x-values and y-values)."
      ],
      "metadata": {
        "id": "4NmD9d12g_N7"
      }
    },
    {
      "cell_type": "code",
      "source": [
        "import matplotlib.pyplot as plt\n",
        "\n",
        "plt.scatter(prof1_x, prof1_y)\n",
        "plt.title(\"River profile\")\n",
        "plt.xlabel(\"Distance (m)\")\n",
        "plt.ylabel(\"Elevation (m)\")"
      ],
      "metadata": {
        "colab": {
          "base_uri": "https://localhost:8080/",
          "height": 313
        },
        "id": "Cek7I_d_gu1j",
        "outputId": "ffb7ad17-bddf-4131-bbc6-59c6beee4aba"
      },
      "execution_count": null,
      "outputs": [
        {
          "output_type": "execute_result",
          "data": {
            "text/plain": [
              "Text(0, 0.5, 'Elevation (m)')"
            ]
          },
          "metadata": {},
          "execution_count": 22
        },
        {
          "output_type": "display_data",
          "data": {
            "text/plain": [
              "<Figure size 432x288 with 1 Axes>"
            ],
            "image/png": "[encoded data removed]"
          },
          "metadata": {
            "needs_background": "light"
          }
        }
      ]
    },
    {
      "cell_type": "code",
      "source": [
        "# Create 4 arrays for x and y values of each profile flank\n",
        "\n",
        "x_left = prof1_x[0:y_minpos]\n",
        "y_left = prof1_y[0:y_minpos]\n",
        "x_right = prof1_x[y_minpos:-1].dropna()\n",
        "y_right = prof1_y[y_minpos:-1].dropna()"
      ],
      "metadata": {
        "id": "5iPh7RiO7NCC"
      },
      "execution_count": null,
      "outputs": []
    },
    {
      "cell_type": "code",
      "source": [
        "# Visualize the two half profiles \n",
        "\n",
        "plt.scatter(x_left , y_left)\n",
        "plt.scatter(x_right, y_right)\n",
        "\n",
        "plt.title(\"River profile\")\n",
        "plt.xlabel(\"Distance (m)\")\n",
        "plt.ylabel(\"Elevation (m)\")"
      ],
      "metadata": {
        "colab": {
          "base_uri": "https://localhost:8080/",
          "height": 313
        },
        "id": "1PXg4x_nlhpk",
        "outputId": "a6a2480e-6be1-40d4-a3f7-657917d3de20"
      },
      "execution_count": null,
      "outputs": [
        {
          "output_type": "execute_result",
          "data": {
            "text/plain": [
              "Text(0, 0.5, 'Elevation (m)')"
            ]
          },
          "metadata": {},
          "execution_count": 24
        },
        {
          "output_type": "display_data",
          "data": {
            "text/plain": [
              "<Figure size 432x288 with 1 Axes>"
            ],
            "image/png": "[encoded data removed]"
          },
          "metadata": {
            "needs_background": "light"
          }
        }
      ]
    },
    {
      "cell_type": "markdown",
      "source": [
        "# For future work..."
      ],
      "metadata": {
        "id": "v6kdcDl9g3Hq"
      }
    },
    {
      "cell_type": "markdown",
      "source": [
        "In the future, I would add a block of code here to clean up the \"tails\" on either side of the river profile so these extraneous data points don't interfere with the successive power fit code. One possible way to do this would be to create a new array that contains information on the slopes between points. Then we would go through that array and remove multiple points across which the slope is 0, or close. "
      ],
      "metadata": {
        "id": "iq8lWoEvATDX"
      }
    },
    {
      "cell_type": "markdown",
      "source": [
        "# Run the glaciality algorithm"
      ],
      "metadata": {
        "id": "h3wXSdXUmHA-"
      }
    },
    {
      "cell_type": "markdown",
      "source": [
        "The following code fits a power law to each profile half and returns the glaciality index, b. The paper goes into more detail about the meaning of this value, but briefly, this value is a way of quantitatively describing the flank of valley walls from the valley profiles (or cross-sections). An index of 1 means straight valleys walls that form a V (fluvially formed), and the indices get larger as the walls become more rounded into a U (glacially formed).\n",
        "\n",
        "This code was adapted from https://stackoverflow.com/questions/10181151/trying-to-get-reasonable-values-from-scipy-powerlaw-fit"
      ],
      "metadata": {
        "id": "0FqsiMAJnLtY"
      }
    },
    {
      "cell_type": "code",
      "source": [
        "import numpy as np\n",
        "from scipy.optimize import least_squares\n",
        "from scipy.optimize import leastsq"
      ],
      "metadata": {
        "id": "UGzsufCbmOxQ"
      },
      "execution_count": null,
      "outputs": []
    },
    {
      "cell_type": "code",
      "source": [
        "def fitfunc(p, x):\n",
        "    return  p[0] * (x ** p[1])\n",
        "def errfunc(p, x, y):\n",
        "    return y - fitfunc(p, x)"
      ],
      "metadata": {
        "id": "5tQ4aKrqmSOd"
      },
      "execution_count": null,
      "outputs": []
    },
    {
      "cell_type": "markdown",
      "source": [
        "An important step of this code is taking the data and forcing it through (0,0). In other words, the minimum of the two-sided profile will become the origin for each flank."
      ],
      "metadata": {
        "id": "UXYeJZGRr7j2"
      }
    },
    {
      "cell_type": "code",
      "source": [
        "# FOR RIGHT FLANK\n",
        "# force data through (0,0)\n",
        "# add very small factor at end because running algorithm w exactly 0 doesn't work\n",
        "x_r = x_right-(np.min(x_right))+1e-6\n",
        "y_r = y_right-(np.min(y_right))+1e-6\n",
        "\n",
        "# FOR LEFT FLANK\n",
        "x_l = x_left \n",
        "y_l = y_left-(np.min(y_left))+1e-6\n",
        "\n",
        "# Mirror left flank over x of min y value\n",
        "# Allows us to later run the same code over both flanks instead of having to write a new algorithm for the left flank\n",
        "x_l=0+(np.max(x_left)-x_l)+1e-6"
      ],
      "metadata": {
        "id": "LfUsAWEdmT-N"
      },
      "execution_count": null,
      "outputs": []
    },
    {
      "cell_type": "markdown",
      "source": [
        "Now, we'll double check that both flanks, 1) go through (0,0) and 2) resemble a right flank (meaning we successfully mirrored the left flank)."
      ],
      "metadata": {
        "id": "sa1EcmxRigTF"
      }
    },
    {
      "cell_type": "code",
      "source": [
        "# RIGHT\n",
        "plt.scatter(x_r,y_r)\n",
        "\n",
        "plt.title(\"River profile\")\n",
        "plt.xlabel(\"Distance (m)\")\n",
        "plt.ylabel(\"Elevation (m)\")"
      ],
      "metadata": {
        "colab": {
          "base_uri": "https://localhost:8080/",
          "height": 313
        },
        "id": "qA4IjNv8mW1F",
        "outputId": "308371ee-8093-4ae7-aa59-c46a063c6553"
      },
      "execution_count": null,
      "outputs": [
        {
          "output_type": "execute_result",
          "data": {
            "text/plain": [
              "Text(0, 0.5, 'Elevation (m)')"
            ]
          },
          "metadata": {},
          "execution_count": 28
        },
        {
          "output_type": "display_data",
          "data": {
            "text/plain": [
              "<Figure size 432x288 with 1 Axes>"
            ],
            "image/png": "[encoded data removed]"
          },
          "metadata": {
            "needs_background": "light"
          }
        }
      ]
    },
    {
      "cell_type": "code",
      "source": [
        "# LEFT\n",
        "plt.scatter(x_l,y_l)\n",
        "\n",
        "plt.title(\"River profile\")\n",
        "plt.xlabel(\"Distance (m)\")\n",
        "plt.ylabel(\"Elevation (m)\")"
      ],
      "metadata": {
        "colab": {
          "base_uri": "https://localhost:8080/",
          "height": 313
        },
        "id": "D5FBfUnI0lYu",
        "outputId": "909b5dbe-9bd1-45f2-a3bd-acf879a661bc"
      },
      "execution_count": null,
      "outputs": [
        {
          "output_type": "execute_result",
          "data": {
            "text/plain": [
              "Text(0, 0.5, 'Elevation (m)')"
            ]
          },
          "metadata": {},
          "execution_count": 29
        },
        {
          "output_type": "display_data",
          "data": {
            "text/plain": [
              "<Figure size 432x288 with 1 Axes>"
            ],
            "image/png": "[encoded data removed]"
          },
          "metadata": {
            "needs_background": "light"
          }
        }
      ]
    },
    {
      "cell_type": "markdown",
      "source": [
        "Along the way in our manipulation of the individual flanks, the data got a little wonky and the power fit returns the proper b value but doesn't graph properly when overlain on the river flank profile (most likely from the mirroring of the left flank). This presents issues with plotting the two arrays, so instead we create a fake x array that is the proper length and each value iterates +1 (effectively the same as the data provided by the 10m resolution digital elevation model data)."
      ],
      "metadata": {
        "id": "CxvAcU-dsqXa"
      }
    },
    {
      "cell_type": "code",
      "source": [
        "# Run the power fit on the right flank\n",
        "qout,success = leastsq(errfunc, [-1,-0.5], args=(x_r,y_r), maxfev=3000)\n",
        "out = qout[:]\n",
        "a = qout[0]\n",
        "b = qout[1]"
      ],
      "metadata": {
        "id": "D7VY9GtdmbTO"
      },
      "execution_count": null,
      "outputs": []
    },
    {
      "cell_type": "code",
      "source": [
        "fake_xs = np.arange(0,np.size(x_r),1)"
      ],
      "metadata": {
        "id": "zNQyBtqNP5qY"
      },
      "execution_count": null,
      "outputs": []
    },
    {
      "cell_type": "code",
      "source": [
        "print('a=',a,\"b=\",b)\n",
        "plt.scatter(x_r,y_r)\n",
        "plt.plot(a * (fake_xs ** b))\n",
        "\n",
        "plt.title(\"River profile\")\n",
        "plt.xlabel(\"Distance (m)\")\n",
        "plt.ylabel(\"Elevation (m)\")"
      ],
      "metadata": {
        "colab": {
          "base_uri": "https://localhost:8080/",
          "height": 332
        },
        "id": "a_YSkvEZqe44",
        "outputId": "7b23be76-6a4e-4f58-beb0-890040714ff2"
      },
      "execution_count": null,
      "outputs": [
        {
          "output_type": "stream",
          "name": "stdout",
          "text": [
            "a= 0.02049443441081457 b= 1.1128664461514188\n"
          ]
        },
        {
          "output_type": "execute_result",
          "data": {
            "text/plain": [
              "Text(0, 0.5, 'Elevation (m)')"
            ]
          },
          "metadata": {},
          "execution_count": 32
        },
        {
          "output_type": "display_data",
          "data": {
            "text/plain": [
              "<Figure size 432x288 with 1 Axes>"
            ],
            "image/png": "[encoded data removed]"
          },
          "metadata": {
            "needs_background": "light"
          }
        }
      ]
    },
    {
      "cell_type": "code",
      "source": [
        "# run the power fit on the left flank, rename variables to avoid bugs in the code\n",
        "qout_l,success_l = leastsq(errfunc, [-1,-0.5], args=(x_l,y_l), maxfev=3000)\n",
        "out_l = qout_l[:]\n",
        "a_l = qout_l[0]\n",
        "b_l = qout_l[1]\n",
        "\n",
        "print('a=',a_l,\"b=\",b_l)"
      ],
      "metadata": {
        "colab": {
          "base_uri": "https://localhost:8080/"
        },
        "id": "NU9Xuef0rBiv",
        "outputId": "df2a0694-f987-41db-9c96-cc95ae540c50"
      },
      "execution_count": null,
      "outputs": [
        {
          "output_type": "stream",
          "name": "stdout",
          "text": [
            "a= 0.050140908012146226 b= 1.072537041912273\n"
          ]
        }
      ]
    },
    {
      "cell_type": "code",
      "source": [
        "fake_xs_l = np.arange(0,np.size(x_l),1)\n",
        "\n",
        "print('a=',a_l,\"b=\",b_l)\n",
        "plt.scatter(x_l,y_l)\n",
        "plt.plot(a_l * (fake_xs_l ** b_l))\n",
        "\n",
        "plt.title(\"River profile\")\n",
        "plt.xlabel(\"Distance (m)\")\n",
        "plt.ylabel(\"Elevation (m)\")"
      ],
      "metadata": {
        "colab": {
          "base_uri": "https://localhost:8080/",
          "height": 332
        },
        "id": "0KKo9WNvM7XU",
        "outputId": "2c439bfb-50fb-47d4-cda6-7591e89bb50d"
      },
      "execution_count": null,
      "outputs": [
        {
          "output_type": "stream",
          "name": "stdout",
          "text": [
            "a= 0.050140908012146226 b= 1.072537041912273\n"
          ]
        },
        {
          "output_type": "execute_result",
          "data": {
            "text/plain": [
              "Text(0, 0.5, 'Elevation (m)')"
            ]
          },
          "metadata": {},
          "execution_count": 34
        },
        {
          "output_type": "display_data",
          "data": {
            "text/plain": [
              "<Figure size 432x288 with 1 Axes>"
            ],
            "image/png": "[encoded data removed]"
          },
          "metadata": {
            "needs_background": "light"
          }
        }
      ]
    },
    {
      "cell_type": "markdown",
      "source": [
        "# Tabulate the glaciality indexes"
      ],
      "metadata": {
        "id": "qwWi5gY5t6Gj"
      }
    },
    {
      "cell_type": "markdown",
      "source": [
        "Now we will tabulate the glaciality values from each profile into a single table to make the data easier to analyze. I have included data source to help differentiate NY and CA profiles."
      ],
      "metadata": {
        "id": "HXuFbprE4_Y0"
      }
    },
    {
      "cell_type": "code",
      "source": [
        "# HOW DO I KEEP PREVIOUS RUN VALUES STORED IN DATAFRAME??\n",
        "# Update the table with all the new values\n",
        "avg = (b + b_l)/2\n",
        "df2 = pd.DataFrame({\"Data Source\":[file_name],\n",
        "                    \"Right flank\":[b],\n",
        "                   \"Left flank\": [b_l],\n",
        "                    \"Average\": [avg]})\n",
        "df_final = df_final.append(df2)"
      ],
      "metadata": {
        "id": "PAJxKOJHzh2W"
      },
      "execution_count": null,
      "outputs": []
    },
    {
      "cell_type": "code",
      "source": [
        "df_final"
      ],
      "metadata": {
        "id": "NxYMazPKrDNg",
        "outputId": "f4ea0669-5713-4a74-8e71-af12063ccf45",
        "colab": {
          "base_uri": "https://localhost:8080/",
          "height": 112
        }
      },
      "execution_count": null,
      "outputs": [
        {
          "output_type": "execute_result",
          "data": {
            "text/plain": [
              "                                         Data Source  Right flank  Left flank  \\\n",
              "0  /content/drive/MyDrive/Colab Notebooks/EARS33_...     0.914573    0.881335   \n",
              "0  /content/drive/MyDrive/Colab Notebooks/EARS33_...     1.112866    1.072537   \n",
              "\n",
              "    Average  \n",
              "0  0.897954  \n",
              "0  1.092702  "
            ],
            "text/html": [
              "\n",
              "  <div id=\"df-1c1813d2-4b35-4023-90fe-9753865ffff6\">\n",
              "    <div class=\"colab-df-container\">\n",
              "      <div>\n",
              "<style scoped>\n",
              "    .dataframe tbody tr th:only-of-type {\n",
              "        vertical-align: middle;\n",
              "    }\n",
              "\n",
              "    .dataframe tbody tr th {\n",
              "        vertical-align: top;\n",
              "    }\n",
              "\n",
              "    .dataframe thead th {\n",
              "        text-align: right;\n",
              "    }\n",
              "</style>\n",
              "<table border=\"1\" class=\"dataframe\">\n",
              "  <thead>\n",
              "    <tr style=\"text-align: right;\">\n",
              "      <th></th>\n",
              "      <th>Data Source</th>\n",
              "      <th>Right flank</th>\n",
              "      <th>Left flank</th>\n",
              "      <th>Average</th>\n",
              "    </tr>\n",
              "  </thead>\n",
              "  <tbody>\n",
              "    <tr>\n",
              "      <th>0</th>\n",
              "      <td>/content/drive/MyDrive/Colab Notebooks/EARS33_...</td>\n",
              "      <td>0.914573</td>\n",
              "      <td>0.881335</td>\n",
              "      <td>0.897954</td>\n",
              "    </tr>\n",
              "    <tr>\n",
              "      <th>0</th>\n",
              "      <td>/content/drive/MyDrive/Colab Notebooks/EARS33_...</td>\n",
              "      <td>1.112866</td>\n",
              "      <td>1.072537</td>\n",
              "      <td>1.092702</td>\n",
              "    </tr>\n",
              "  </tbody>\n",
              "</table>\n",
              "</div>\n",
              "      <button class=\"colab-df-convert\" onclick=\"convertToInteractive('df-1c1813d2-4b35-4023-90fe-9753865ffff6')\"\n",
              "              title=\"Convert this dataframe to an interactive table.\"\n",
              "              style=\"display:none;\">\n",
              "        \n",
              "  <svg xmlns=\"http://www.w3.org/2000/svg\" height=\"24px\"viewBox=\"0 0 24 24\"\n",
              "       width=\"24px\">\n",
              "    <path d=\"M0 0h24v24H0V0z\" fill=\"none\"/>\n",
              "    <path d=\"M18.56 5.44l.94 2.06.94-2.06 2.06-.94-2.06-.94-.94-2.06-.94 2.06-2.06.94zm-11 1L8.5 8.5l.94-2.06 2.06-.94-2.06-.94L8.5 2.5l-.94 2.06-2.06.94zm10 10l.94 2.06.94-2.06 2.06-.94-2.06-.94-.94-2.06-.94 2.06-2.06.94z\"/><path d=\"M17.41 7.96l-1.37-1.37c-.4-.4-.92-.59-1.43-.59-.52 0-1.04.2-1.43.59L10.3 9.45l-7.72 7.72c-.78.78-.78 2.05 0 2.83L4 21.41c.39.39.9.59 1.41.59.51 0 1.02-.2 1.41-.59l7.78-7.78 2.81-2.81c.8-.78.8-2.07 0-2.86zM5.41 20L4 18.59l7.72-7.72 1.47 1.35L5.41 20z\"/>\n",
              "  </svg>\n",
              "      </button>\n",
              "      \n",
              "  <style>\n",
              "    .colab-df-container {\n",
              "      display:flex;\n",
              "      flex-wrap:wrap;\n",
              "      gap: 12px;\n",
              "    }\n",
              "\n",
              "    .colab-df-convert {\n",
              "      background-color: #E8F0FE;\n",
              "      border: none;\n",
              "      border-radius: 50%;\n",
              "      cursor: pointer;\n",
              "      display: none;\n",
              "      fill: #1967D2;\n",
              "      height: 32px;\n",
              "      padding: 0 0 0 0;\n",
              "      width: 32px;\n",
              "    }\n",
              "\n",
              "    .colab-df-convert:hover {\n",
              "      background-color: #E2EBFA;\n",
              "      box-shadow: 0px 1px 2px rgba(60, 64, 67, 0.3), 0px 1px 3px 1px rgba(60, 64, 67, 0.15);\n",
              "      fill: #174EA6;\n",
              "    }\n",
              "\n",
              "    [theme=dark] .colab-df-convert {\n",
              "      background-color: #3B4455;\n",
              "      fill: #D2E3FC;\n",
              "    }\n",
              "\n",
              "    [theme=dark] .colab-df-convert:hover {\n",
              "      background-color: #434B5C;\n",
              "      box-shadow: 0px 1px 3px 1px rgba(0, 0, 0, 0.15);\n",
              "      filter: drop-shadow(0px 1px 2px rgba(0, 0, 0, 0.3));\n",
              "      fill: #FFFFFF;\n",
              "    }\n",
              "  </style>\n",
              "\n",
              "      <script>\n",
              "        const buttonEl =\n",
              "          document.querySelector('#df-1c1813d2-4b35-4023-90fe-9753865ffff6 button.colab-df-convert');\n",
              "        buttonEl.style.display =\n",
              "          google.colab.kernel.accessAllowed ? 'block' : 'none';\n",
              "\n",
              "        async function convertToInteractive(key) {\n",
              "          const element = document.querySelector('#df-1c1813d2-4b35-4023-90fe-9753865ffff6');\n",
              "          const dataTable =\n",
              "            await google.colab.kernel.invokeFunction('convertToInteractive',\n",
              "                                                     [key], {});\n",
              "          if (!dataTable) return;\n",
              "\n",
              "          const docLinkHtml = 'Like what you see? Visit the ' +\n",
              "            '<a target=\"_blank\" href=https://colab.research.google.com/notebooks/data_table.ipynb>data table notebook</a>'\n",
              "            + ' to learn more about interactive tables.';\n",
              "          element.innerHTML = '';\n",
              "          dataTable['output_type'] = 'display_data';\n",
              "          await google.colab.output.renderOutput(dataTable, element);\n",
              "          const docLink = document.createElement('div');\n",
              "          docLink.innerHTML = docLinkHtml;\n",
              "          element.appendChild(docLink);\n",
              "        }\n",
              "      </script>\n",
              "    </div>\n",
              "  </div>\n",
              "  "
            ]
          },
          "metadata": {},
          "execution_count": 36
        }
      ]
    },
    {
      "cell_type": "markdown",
      "source": [
        "# Data Analysis/Reflection"
      ],
      "metadata": {
        "id": "mVxhp6T-5Q2N"
      }
    },
    {
      "cell_type": "markdown",
      "source": [
        "Now we will analyze these data against known erosion rates for the given watersheds. Erosion rates were taken from https://octopusdata.org and the watersheds are named Upper Susquehanna (NY) and Northern California Coastal (CA). The Pracisek paper this data tutorial was based on draws the conclusion that landforms that fully transition from U-shaped valleys to V-shaped valleys are found in areas where rock uplift and erosion rates are high. In other words, we expect for b values to be lower in CA (where we know the erosion rates are higher from Octopus data and the uplift rates are higher from general tectonic understanding of the US). We expect higher b values and more U-shaped valleys in the NY watershed. \n",
        "\n",
        "**In class, we discussed the idea of steady-state assumption or landscape equilibrium in regards to fluvial systems in areas of tectonic uplift. What we learned is that rivers have a tendency to maintain equilibrium. Therefore, in areas of high uplift rates, these rivers experience increased erosion rates in order to incise their valleys to steady-state. This concept is exactly what the Prasicek paper is drawing on. We see how these characteristics of a landscape are connected in the Prasicek paper and we will draw on this connection in the response to the following question(s). "
      ],
      "metadata": {
        "id": "QzJ-lSjA5TYu"
      }
    },
    {
      "cell_type": "markdown",
      "source": [
        "We know from the Octopus data that the Be-10 erosion rates are as follows: \n",
        "\n",
        "NY watershed -- 7.98, 3.97, 23.08 mm/kyr\n",
        "\n",
        "CA watershed -- 111.3, 93.66 mm/kyr\n",
        "\n",
        "Next, after running every profile provided for each watershed and analyzing the tabulated data above, the average flank glaciality values (b) are as follows: \n",
        "\n",
        "NY watershed -- 1.143\n",
        "\n",
        "CA watershed -- 0.990\n",
        "\n",
        "With this information, as well as what you learned from skimming the Prasicek et al. paper linked at the top of this tutorial, how do you make sense of the data we have produced/gathered for each watershed? Do these data support or reject Prasicek et al's assertion that rock uplift, erosion rates, and the persistence of U-shaped valleys are all connected? In short, write a brief (~4 sentence) response on how you make sense of all of this data in junction with one another.\n"
      ],
      "metadata": {
        "id": "Sai5z78OqwcI"
      }
    },
    {
      "cell_type": "markdown",
      "source": [
        "# Response"
      ],
      "metadata": {
        "id": "203oZh8XslXW"
      }
    },
    {
      "cell_type": "markdown",
      "source": [
        "To reiterate known aspects of geomorphology, we know that: \n",
        "1) glaciers form U-shaped valleys during glacial periods\n",
        "2) rivers inhabit these valleys during interglacial periods\n",
        "3) sometimes these valley profiles are reshaped within the interglacial period to V-shaped valleys and other times U-shaped valleys persist through interglacial periods. \n",
        "\n",
        "Prasicek et al. hypothesizes that the answer behind this phenomenon can be found in the deformation of Earth's surface. After conducting a study in the Southern Alps of New Zealand, these researchers conclude that \"the glacial imprint on topography diminishes in proportion to the rock uplift rate\" and that \"the landform transformed entirely from U-shaped to V-shaped since the LGM (last glaical maximum) where rock uplift and erosion rate is high\". \n",
        "\n",
        "We know from the Octopus data that the erosion rates are about an order of magnitude higher in the CA watershed compared to the NY watershed. We also know that the west coast in more tectonically active presently compared to the east coast. Using Prasicek et al's conclusion, we would expect the valleys to be more V-shaped in the CA watershed and more U-shaped in the NY watershed. \n",
        "\n",
        "From our averaged flank values, this is true (although the avg b values are somewhat comparable). In order to further support the Prasicek paper in the future, we would want to take more river profiles across more watersheds in order to produce any meaningful data. However, our minimal data do seem to point to the fact that there could be a connection between erosion rate, rock uplift, and valley profiles. "
      ],
      "metadata": {
        "id": "BRTEC6yasnnr"
      }
    }
  ]
}