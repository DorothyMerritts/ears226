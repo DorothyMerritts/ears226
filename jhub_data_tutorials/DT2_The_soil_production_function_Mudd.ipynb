{
  "cells": [
    {
      "attachments": {},
      "cell_type": "markdown",
      "metadata": {},
      "source": [
        "# Introduction"
      ]
    },
    {
      "attachments": {},
      "cell_type": "markdown",
      "metadata": {},
      "source": [
        "This is another great notebook by Simon Mudd!"
      ]
    },
    {
      "attachments": {},
      "cell_type": "markdown",
      "metadata": {},
      "source": [
        "# Learning objectives:"
      ]
    },
    {
      "attachments": {},
      "cell_type": "markdown",
      "metadata": {},
      "source": [
        "- Identify the mathematical form of the different proposed relationships between soil thickness and the rate of soil production\n",
        "- Visualize and interpret numerical models of soil properties with `numpy` and `matplotlib` \n",
        "- Devise an algorithmic approach to calculating how soil thickness changes over time "
      ]
    },
    {
      "cell_type": "markdown",
      "metadata": {
        "id": "ZP4thMCiK-tx"
      },
      "source": [
        "# The soil production function"
      ]
    },
    {
      "cell_type": "markdown",
      "metadata": {
        "id": "VWBWBuYzK-t1"
      },
      "source": [
        "This lesson produced by Simon M Mudd and Fiona J Clubb. Last update (13/09/2021)"
      ]
    },
    {
      "cell_type": "markdown",
      "metadata": {
        "id": "hiDXO-0aK-t2"
      },
      "source": [
        "Back in the late 1800s, people (including G.K. Gilbert) were speculating about the rates at which soil was formed. This might depend on things like the number of burrowing animals, the rock type, the number of plants, and other factors. \n",
        "\n",
        "The soil is \"produced\" from somewhere, and usually it is produced from some combination of conversion of rock to sediments, addition of organic matter, and deposition of dust. But we are going to focus on the conversion of rock material to sediment that can move. \n",
        "\n",
        "Gilbert suggested that the rate soil was produced (from underlying rocks) depended on the thickness of the soil. We can make a prediction about the relationship between soil thickness and the rate soil is produced, and we call this the *soil production function*.\n",
        "\n",
        "This function has proposed to have a few different forms, which we will explore below. "
      ]
    },
    {
      "cell_type": "markdown",
      "metadata": {
        "id": "UAiys0AdK-t3"
      },
      "source": [
        "## Exponential Soil Production"
      ]
    },
    {
      "cell_type": "markdown",
      "metadata": {
        "id": "2_hGTkhtK-t4"
      },
      "source": [
        "In lectures we identified that the rate of weathering on a hillslope could be described as an exponential function that depends on soil depth, with weathering rates declining as soil gets deeper (Heimsath et al., 1997):\n",
        "\n",
        "$p = W_0 e^{-\\frac{h}{\\gamma}}$\n",
        "\n",
        "where $W_0$ is the soil production rate with no soil, and $\\gamma$ is a length scale that determines how quickly soil production falls off with depth.\n",
        "\n",
        "Typical values for $W_0$ are in the range 0.01-1 mm/yr [(Perron, 2017)](http://www.annualreviews.org/doi/abs/10.1146/annurev-earth-060614-105405). Note that when you're doing numerical calculations you have to be consistent with units. We will always do calculations in length units of ***metres*** (m), time units of ***years*** (y) and mass units of ***kilograms*** (kg). However we might convert to other units for the purposes of plotting sensible numbers (e.g. Weathering rates in mm/y = m/y $\\times$ 1000).\n",
        "\n",
        "Let's take a look at what this function looks like by plotting it with python:"
      ]
    },
    {
      "cell_type": "code",
      "execution_count": null,
      "metadata": {
        "id": "IulwmMXrK-t6"
      },
      "outputs": [],
      "source": [
        "%matplotlib inline\n",
        "import matplotlib.pyplot as plt\n",
        "import numpy as np"
      ]
    },
    {
      "cell_type": "code",
      "execution_count": null,
      "metadata": {
        "id": "-_PxcRSCK-t8"
      },
      "outputs": [],
      "source": [
        "h_locs = np.arange(0,2,0.1)"
      ]
    },
    {
      "cell_type": "markdown",
      "metadata": {
        "id": "I6F4togUK-t9"
      },
      "source": [
        "We define the soil production function:"
      ]
    },
    {
      "cell_type": "code",
      "execution_count": null,
      "metadata": {
        "id": "cnX21qm0K-t-"
      },
      "outputs": [],
      "source": [
        "def soil_prod_function(h_locs, W_0 = 0.0001, gamma = 0.4):\n",
        "    P = np.multiply(W_0,  np.exp( - np.divide(h_locs,gamma)  )  )\n",
        "    return P"
      ]
    },
    {
      "cell_type": "markdown",
      "metadata": {
        "id": "_GSdRzL-K-t_"
      },
      "source": [
        "Now lets plot the function and see what it looks like.\n",
        "\n",
        "In the code below there are two soil production functions that you can compare. For example if you make `W_0` twice as much as `W_02` that means the second soil production function produces soil twice as fast as the first when there is no soil. "
      ]
    },
    {
      "cell_type": "code",
      "execution_count": null,
      "metadata": {
        "colab": {
          "base_uri": "https://localhost:8080/",
          "height": 314
        },
        "id": "5DdjsEW7K-t_",
        "outputId": "21115441-f8d3-4bfc-a2ef-08ba4b7a4049"
      },
      "outputs": [
        {
          "data": {
            "text/plain": [
              "<Figure size 720x288 with 0 Axes>"
            ]
          },
          "metadata": {},
          "output_type": "display_data"
        },
        {
          "data": {
            "image/png": "[encoded data removed]",
            "text/plain": [
              "<Figure size 720x288 with 1 Axes>"
            ]
          },
          "metadata": {
            "needs_background": "light"
          },
          "output_type": "display_data"
        }
      ],
      "source": [
        "plt.rcParams['figure.figsize'] = [10, 4]\n",
        "plt.clf()\n",
        "\n",
        "# TRY CHANGING THE FOUR PARAMETER BELOW\n",
        "# These two are for the first soil production function\n",
        "W_0 = 0.0001\n",
        "gamma = 0.4\n",
        "\n",
        "# These two are for the second soil production function\n",
        "W_02 = 0.0002\n",
        "gamma2 = 0.4\n",
        "\n",
        "# This bit calculates the functions\n",
        "P = soil_prod_function(h_locs, W_0 = W_0, gamma = gamma)\n",
        "P2 = soil_prod_function(h_locs, W_0 = W_02, gamma = gamma2)\n",
        "\n",
        "# The rest of this stuff makes the figure\n",
        "f, ax = plt.subplots(1, 1)\n",
        "ax.plot(h_locs, P*1000,label=\"P1\")\n",
        "ax.plot(h_locs, P2*1000,label=\"P2\")\n",
        "ax.set_xlabel(\"Soil thickness ($m$)\")\n",
        "ax.set_ylabel(\"Soil production (mm/yr)\")\n",
        "plt.title(\"Two soil production function. Try playing with the parameters!\")\n",
        "ax.legend()\n",
        "plt.tight_layout()"
      ]
    },
    {
      "cell_type": "markdown",
      "metadata": {
        "id": "zW3g21-qK-uA"
      },
      "source": [
        "## The peaked soil production function"
      ]
    },
    {
      "cell_type": "markdown",
      "metadata": {
        "id": "NxApejYyK-uB"
      },
      "source": [
        "We also discussed in the lecture an alternative way in which soil may be produced: where there are very slow rates of soil production where there is bare bedrock, then soil peaks at some intermediate thickness before decreasing exponentially with increasing soil thickness. This model dates back to Gilbert (1877), and makes intuitive sense: water is needed for weathering processes as we discussed today. If there is bare bedrock, water is quickly transported through overland flow and little weathering can take place. If there is too much soil, then it's unlikely to be fully saturated down to the bedrock--soil interface.\n",
        "\n",
        "In this section, we will make some plots of a hypothetical peaked (or humped) soil production function.\n",
        "\n",
        "We will use the theoretical formulation from [Cox (1980)](https://onlinelibrary.wiley.com/doi/abs/10.1002/esp.3760050305) to calculate the weathering rate for a range of soil depths. This is a bit more complicated than the exponential function and has a bigger range of parameters:\n",
        "\n",
        "\\begin{equation}\n",
        "W = W_0 (\\alpha e^{-kh}) + (1 - \\alpha)f \\\\\n",
        "f = \\Bigg(1 + c\\frac{h}{h_c} - \\frac{h^2}{{h_c}^2}\\Bigg)\n",
        "\\end{equation}\n",
        "\n",
        "You should recognise some of these parameters from the exponential equation. The first part of the equation is the exponential function multiplied by a coefficient, $\\alpha$. $W$ is still the weathering rate, $W_0$ is the inital rate of soil production where there is no soil, and $h$ is soil depth. There are two new parameters: $h_c$ is a critical soil depth (m), and $c$ is an empirical constant. Anhert (1977) suggests that $c$ might vary between 1.7 - 2.3, $h_c$ might vary between 0.6 - 1.5, and $\\alpha$ between 0 - 1. If $\\alpha = 1$, then the relationship is simply the exponential function."
      ]
    },
    {
      "cell_type": "code",
      "execution_count": null,
      "metadata": {
        "colab": {
          "base_uri": "https://localhost:8080/",
          "height": 314
        },
        "id": "lR0YDetTK-uB",
        "outputId": "3aa32e4a-1723-480b-ccea-13ba702eee91"
      },
      "outputs": [
        {
          "data": {
            "text/plain": [
              "<Figure size 432x288 with 0 Axes>"
            ]
          },
          "metadata": {},
          "output_type": "display_data"
        },
        {
          "data": {
            "image/png": "[encoded data removed]",
            "text/plain": [
              "<Figure size 432x288 with 1 Axes>"
            ]
          },
          "metadata": {
            "needs_background": "light"
          },
          "output_type": "display_data"
        }
      ],
      "source": [
        "# first, let's clear the original figure\n",
        "plt.clf()\n",
        "# make a new figure\n",
        "fig, ax = plt.subplots()\n",
        "\n",
        "k = 1\n",
        "\n",
        "# define the critical depth for soil production\n",
        "h_c = 0.5 #metres\n",
        "\n",
        "# define the initial rate of soil production \n",
        "W_0 = 0.0005 #m/year\n",
        "\n",
        "# define the constant c\n",
        "c = 2 #dimensionless\n",
        "\n",
        "# define alpha\n",
        "alpha = 0.2\n",
        "\n",
        "# calculate the weathering rate for the range of soil depths, h\n",
        "f = (1 + c*(h_locs/h_c) - h_locs**2/h_c**2)\n",
        "W = W_0 * (alpha * np.exp(-k*h_locs) + (1 - alpha)*f)\n",
        "\n",
        "# plot the new result with a blue dashed line\n",
        "ax.plot(h_locs,W*1000.,'--', color='blue', label = 'Peaked function')\n",
        "\n",
        "# add a legend \n",
        "plt.legend(loc = 'upper right')\n",
        "\n",
        "# set the y limit of the humped function to 0 (so we don't get negative weathering rates), and set the axis labels\n",
        "ax.set_ylim(0,)\n",
        "plt.xlabel(\"Soil Depth (m)\")\n",
        "plt.ylabel(\"Weathering Rate (mm/y)\")\n",
        "plt.title(\"The peaked soil production function\")\n",
        "plt.tight_layout()"
      ]
    },
    {
      "cell_type": "markdown",
      "metadata": {
        "id": "ddvr8SxIMRph"
      },
      "source": [
        "# Reflection questions\n"
      ]
    },
    {
      "cell_type": "markdown",
      "metadata": {
        "id": "JqeDSdxcMTPm"
      },
      "source": [
        "Have a play around and try to change some of the parameters in the peaked function (simply modify in the code block above). How does this affect the curve?"
      ]
    },
    {
      "cell_type": "markdown",
      "metadata": {
        "id": "4-8Ix1X9Mcmq"
      },
      "source": [
        "*Your answer here*"
      ]
    },
    {
      "cell_type": "markdown",
      "metadata": {
        "id": "VYvCuKdzMVSZ"
      },
      "source": [
        "Try to make a plot with the exponential and peaked functions on the same set of axes, so you can compare them (HINT - copy the line that creates the exponential soil production function into the code block above, and then give it a different colour).\n",
        "\n"
      ]
    },
    {
      "cell_type": "code",
      "execution_count": null,
      "metadata": {
        "id": "JzvoSY9lMXo9"
      },
      "outputs": [],
      "source": [
        "# Your code here"
      ]
    },
    {
      "cell_type": "markdown",
      "metadata": {
        "id": "V1Wylm5jMYot"
      },
      "source": [
        "Both the exponential and peaked soil production functions have *slower* soil production with thicker soil, meaning soil can't keep getting thicker forever! Describe in words how you might go about using these relationships presented in this notebook to calculate how long it would take a bare soil to reach a thickness at which the production of new soil is negigible. "
      ]
    },
    {
      "cell_type": "markdown",
      "metadata": {
        "id": "cH195yz_NuqL"
      },
      "source": [
        "*Your answer here*"
      ]
    },
    {
      "cell_type": "markdown",
      "metadata": {
        "id": "0klU5vZYNxx8"
      },
      "source": [
        "...and as *bonus*.....can you *code* it???\n",
        "\n",
        "(give it a shot, ask Joanmarie for help if you'd like)"
      ]
    },
    {
      "cell_type": "code",
      "execution_count": null,
      "metadata": {
        "id": "RDEP7SwSMQQX"
      },
      "outputs": [],
      "source": []
    }
  ],
  "metadata": {
    "colab": {
      "provenance": []
    },
    "kernelspec": {
      "display_name": "Python 3 (ipykernel)",
      "language": "python",
      "name": "python3"
    },
    "language_info": {
      "codemirror_mode": {
        "name": "ipython",
        "version": 3
      },
      "file_extension": ".py",
      "mimetype": "text/x-python",
      "name": "python",
      "nbconvert_exporter": "python",
      "pygments_lexer": "ipython3",
      "version": "3.8.10"
    }
  },
  "nbformat": 4,
  "nbformat_minor": 0
}
